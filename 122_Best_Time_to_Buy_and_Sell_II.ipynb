{
 "cells": [
  {
   "cell_type": "markdown",
   "id": "74b476b7",
   "metadata": {},
   "source": [
    "## 122. Best Time to Buy and Sell II"
   ]
  },
  {
   "cell_type": "markdown",
   "id": "78002a4d",
   "metadata": {},
   "source": [
    "You are given an integer array prices where prices[i] is the price of a given stock on the ith day.\n",
    "\n",
    "On each day, you may decide to buy and/or sell the stock. You can only hold at most one share of the stock at any time. However, you can buy it then immediately sell it on the same day.\n",
    "\n",
    "Find and return the maximum profit you can achieve.\n",
    "\n",
    " \n",
    "\n",
    "Example 1:\n",
    "\n",
    "Input: prices = [7,1,5,3,6,4]\n",
    "Output: 7\n",
    "Explanation: Buy on day 2 (price = 1) and sell on day 3 (price = 5), profit = 5-1 = 4.\n",
    "Then buy on day 4 (price = 3) and sell on day 5 (price = 6), profit = 6-3 = 3.\n",
    "Total profit is 4 + 3 = 7.\n",
    "Example 2:\n",
    "\n",
    "Input: prices = [1,2,3,4,5]\n",
    "Output: 4\n",
    "Explanation: Buy on day 1 (price = 1) and sell on day 5 (price = 5), profit = 5-1 = 4.\n",
    "Total profit is 4.\n",
    "Example 3:\n",
    "\n",
    "Input: prices = [7,6,4,3,1]\n",
    "Output: 0\n",
    "Explanation: There is no way to make a positive profit, so we never buy the stock to achieve the maximum profit of 0.\n",
    " \n",
    "\n",
    "Constraints:\n",
    "\n",
    "1 <= prices.length <= 3 * 104\n",
    "0 <= prices[i] <= 104"
   ]
  },
  {
   "cell_type": "code",
   "execution_count": 1,
   "id": "0da30d47",
   "metadata": {},
   "outputs": [],
   "source": [
    "class Solution:\n",
    "    def maxProfit(self, prices: list[int]) -> int:\n",
    "        i = 0\n",
    "        low = prices[0]\n",
    "        high = prices[0]\n",
    "        profit = 0\n",
    "        n= len(prices)\n",
    "\n",
    "        while i < n-1:\n",
    "            while i < n-1 and prices[i] >= prices[i+1]:     # look where to buy\n",
    "                i += 1                                      # Shift i till values are decreasing to find dips on curve\n",
    "            low = prices[i]\n",
    "\n",
    "            while i < n-1 and prices[i] <= prices[i+1]:     # look where to sell\n",
    "                i += 1                                      # Shift i till values are increasing to find highs on curve\n",
    "            high = prices[i]\n",
    "\n",
    "            profit += high - low\n",
    "        \n",
    "        return profit\n",
    "        # Time: O(n)\n",
    "        # Space: O(1)\n",
    "\n",
    "solve= Solution()"
   ]
  },
  {
   "cell_type": "code",
   "execution_count": 2,
   "id": "d4d2a5f6",
   "metadata": {},
   "outputs": [],
   "source": [
    "# Test case\n",
    "\n",
    "prices = [7,1,5,3,6,4]\n",
    "\n",
    "output= solve.maxProfit(prices)"
   ]
  },
  {
   "cell_type": "code",
   "execution_count": 3,
   "id": "0f96a251",
   "metadata": {},
   "outputs": [
    {
     "name": "stdout",
     "output_type": "stream",
     "text": [
      "7\n"
     ]
    }
   ],
   "source": [
    "# Result\n",
    "\n",
    "#print(output)\n",
    "print(output)"
   ]
  },
  {
   "cell_type": "code",
   "execution_count": null,
   "id": "f3998a01",
   "metadata": {},
   "outputs": [],
   "source": []
  }
 ],
 "metadata": {
  "kernelspec": {
   "display_name": "base",
   "language": "python",
   "name": "python3"
  },
  "language_info": {
   "codemirror_mode": {
    "name": "ipython",
    "version": 3
   },
   "file_extension": ".py",
   "mimetype": "text/x-python",
   "name": "python",
   "nbconvert_exporter": "python",
   "pygments_lexer": "ipython3",
   "version": "3.11.4"
  }
 },
 "nbformat": 4,
 "nbformat_minor": 5
}
