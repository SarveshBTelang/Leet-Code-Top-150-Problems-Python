{
 "cells": [
  {
   "cell_type": "markdown",
   "id": "74b476b7",
   "metadata": {},
   "source": [
    "## 189. Rotate Array"
   ]
  },
  {
   "cell_type": "markdown",
   "id": "78002a4d",
   "metadata": {},
   "source": [
    "Given an integer array nums, rotate the array to the right by k steps, where k is non-negative.\n",
    "\n",
    "Example 1:\n",
    "\n",
    "Input: nums = [1,2,3,4,5,6,7], k = 3\n",
    "Output: [5,6,7,1,2,3,4]\n",
    "Explanation:\n",
    "rotate 1 steps to the right: [7,1,2,3,4,5,6]\n",
    "rotate 2 steps to the right: [6,7,1,2,3,4,5]\n",
    "rotate 3 steps to the right: [5,6,7,1,2,3,4]\n",
    "Example 2:\n",
    "\n",
    "Input: nums = [-1,-100,3,99], k = 2\n",
    "Output: [3,99,-1,-100]\n",
    "Explanation: \n",
    "rotate 1 steps to the right: [99,-1,-100,3]\n",
    "rotate 2 steps to the right: [3,99,-1,-100]\n",
    " \n",
    "\n",
    "Constraints:\n",
    "\n",
    "1 <= nums.length <= 105\n",
    "-231 <= nums[i] <= 231 - 1\n",
    "0 <= k <= 105\n",
    "\n",
    "Follow up:\n",
    "\n",
    "Try to come up with as many solutions as you can. There are at least three different ways to solve this problem.\n",
    "Could you do it in-place with O(1) extra space?"
   ]
  },
  {
   "cell_type": "code",
   "execution_count": 6,
   "id": "e56a5472",
   "metadata": {},
   "outputs": [],
   "source": [
    "class Solution:\n",
    "\n",
    "    def rotate(self, nums: list[int], k: int) -> None:\n",
    "        \"\"\"\n",
    "        Do not return anything, modify nums in-place instead.\n",
    "        \"\"\"\n",
    "        n = len(nums)\n",
    "        k = k % n\n",
    "\n",
    "        def reverse(l,r):       # manual reverse function for space complexity (can be achieved normally by nums[::-1])\n",
    "            while l < r:\n",
    "                nums[l], nums[r] = nums[r], nums[l]\n",
    "                l += 1\n",
    "                r -= 1\n",
    "\n",
    "        reverse(0, n-1) # Reverse entire array\n",
    "\n",
    "        reverse(0, k-1) # Reverse first k elements\n",
    "\n",
    "        reverse(k,n-1) # Reverse the remaining n-k elements\n",
    "\n",
    "        # Time: O(n)\n",
    "        # Space: O(1)\n",
    "\n",
    "solve= Solution()"
   ]
  },
  {
   "cell_type": "code",
   "execution_count": 7,
   "id": "d4d2a5f6",
   "metadata": {},
   "outputs": [],
   "source": [
    "# Test case\n",
    "\n",
    "nums = [1,2,3,4,5,6,7]\n",
    "k = 3\n",
    "\n",
    "output= solve.rotate(nums, k)"
   ]
  },
  {
   "cell_type": "code",
   "execution_count": 8,
   "id": "0f96a251",
   "metadata": {},
   "outputs": [
    {
     "name": "stdout",
     "output_type": "stream",
     "text": [
      "None\n",
      "[5, 6, 7, 1, 2, 3, 4]\n"
     ]
    }
   ],
   "source": [
    "# Result\n",
    "\n",
    "#print(output)\n",
    "print(output)\n",
    "print(nums)"
   ]
  }
 ],
 "metadata": {
  "kernelspec": {
   "display_name": "base",
   "language": "python",
   "name": "python3"
  },
  "language_info": {
   "codemirror_mode": {
    "name": "ipython",
    "version": 3
   },
   "file_extension": ".py",
   "mimetype": "text/x-python",
   "name": "python",
   "nbconvert_exporter": "python",
   "pygments_lexer": "ipython3",
   "version": "3.11.4"
  }
 },
 "nbformat": 4,
 "nbformat_minor": 5
}
