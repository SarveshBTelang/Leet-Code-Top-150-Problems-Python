{
 "cells": [
  {
   "cell_type": "markdown",
   "id": "74b476b7",
   "metadata": {},
   "source": [
    "## 45. Jump Game II"
   ]
  },
  {
   "cell_type": "markdown",
   "id": "78002a4d",
   "metadata": {},
   "source": [
    "You are given a 0-indexed array of integers nums of length n. You are initially positioned at nums[0].\n",
    "\n",
    "Each element nums[i] represents the maximum length of a forward jump from index i. In other words, if you are at nums[i], you can jump to any nums[i + j] where:\n",
    "\n",
    "0 <= j <= nums[i] and\n",
    "i + j < n\n",
    "Return the minimum number of jumps to reach nums[n - 1]. The test cases are generated such that you can reach nums[n - 1].\n",
    "\n",
    " \n",
    "\n",
    "Example 1:\n",
    "\n",
    "Input: nums = [2,3,1,1,4]\n",
    "Output: 2\n",
    "Explanation: The minimum number of jumps to reach the last index is 2. Jump 1 step from index 0 to 1, then 3 steps to the last index.\n",
    "Example 2:\n",
    "\n",
    "Input: nums = [2,3,0,1,4]\n",
    "Output: 2\n",
    " \n",
    "\n",
    "Constraints:\n",
    "\n",
    "1 <= nums.length <= 104\n",
    "0 <= nums[i] <= 1000\n",
    "It's guaranteed that you can reach nums[n - 1]."
   ]
  },
  {
   "cell_type": "code",
   "execution_count": null,
   "id": "0da30d47",
   "metadata": {},
   "outputs": [],
   "source": [
    "class Solution:\n",
    "    def jump(self, nums: list[int]) -> int:     # Divide the array into groups or sections to calculate smallest jump count \n",
    "        smallest = 0\n",
    "        n = len(nums)\n",
    "        end, far = 0, 0   \n",
    "\n",
    "        for i in range(n-1):\n",
    "            far = max(far, i+nums[i])\n",
    "\n",
    "            print(\"i:\", i)\n",
    "            print(\"far:\",far)       # 'far' tells how farthest can we jump to\n",
    "\n",
    "            if i == end:\n",
    "                smallest += 1       # when i reach the 'end': 1. we increase 'smallest' count by 1\n",
    "                end = far           # 2. we move the 'end' to the 'far' ('end' is just to make sure smallest count updates only when it switches to new group)\n",
    "                                    # it means we switched to new group/section \n",
    "            print(\"smallest:\",smallest) \n",
    "            print(\"end:\",end, \"\\n\") \n",
    "\n",
    "            \n",
    "        \n",
    "        return smallest\n",
    "        # Time: O(n)\n",
    "        # Space: O(1)\n",
    "\n",
    "solve= Solution()"
   ]
  },
  {
   "cell_type": "code",
   "execution_count": 16,
   "id": "d4d2a5f6",
   "metadata": {},
   "outputs": [
    {
     "name": "stdout",
     "output_type": "stream",
     "text": [
      "i: 0\n",
      "far: 2\n",
      "smallest: 1\n",
      "end: 2 \n",
      "\n",
      "i: 1\n",
      "far: 4\n",
      "smallest: 1\n",
      "end: 2 \n",
      "\n",
      "i: 2\n",
      "far: 4\n",
      "smallest: 2\n",
      "end: 4 \n",
      "\n",
      "i: 3\n",
      "far: 4\n",
      "smallest: 2\n",
      "end: 4 \n",
      "\n"
     ]
    }
   ],
   "source": [
    "# Test case\n",
    "\n",
    "nums = [2,3,1,1,4]\n",
    "\n",
    "output= solve.jump(nums)"
   ]
  },
  {
   "cell_type": "code",
   "execution_count": 4,
   "id": "0f96a251",
   "metadata": {},
   "outputs": [
    {
     "name": "stdout",
     "output_type": "stream",
     "text": [
      "2\n"
     ]
    }
   ],
   "source": [
    "# Result\n",
    "\n",
    "#print(output)\n",
    "print(output)"
   ]
  },
  {
   "cell_type": "code",
   "execution_count": null,
   "id": "9da349ed",
   "metadata": {},
   "outputs": [],
   "source": []
  }
 ],
 "metadata": {
  "kernelspec": {
   "display_name": "base",
   "language": "python",
   "name": "python3"
  },
  "language_info": {
   "codemirror_mode": {
    "name": "ipython",
    "version": 3
   },
   "file_extension": ".py",
   "mimetype": "text/x-python",
   "name": "python",
   "nbconvert_exporter": "python",
   "pygments_lexer": "ipython3",
   "version": "3.11.4"
  }
 },
 "nbformat": 4,
 "nbformat_minor": 5
}
