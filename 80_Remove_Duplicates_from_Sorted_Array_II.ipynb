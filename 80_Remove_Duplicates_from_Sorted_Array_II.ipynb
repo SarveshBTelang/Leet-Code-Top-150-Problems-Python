{
 "cells": [
  {
   "cell_type": "markdown",
   "id": "74b476b7",
   "metadata": {},
   "source": [
    "## 80. Remove Duplicates from Sorted Array II"
   ]
  },
  {
   "cell_type": "markdown",
   "id": "78002a4d",
   "metadata": {},
   "source": [
    "Given an integer array nums sorted in non-decreasing order, remove some duplicates in-place such that each unique element appears at most twice. The relative order of the elements should be kept the same.\n",
    "\n",
    "Since it is impossible to change the length of the array in some languages, you must instead have the result be placed in the first part of the array nums. More formally, if there are k elements after removing the duplicates, then the first k elements of nums should hold the final result. It does not matter what you leave beyond the first k elements.\n",
    "\n",
    "Return k after placing the final result in the first k slots of nums.\n",
    "\n",
    "Do not allocate extra space for another array. You must do this by modifying the input array in-place with O(1) extra memory.\n",
    "\n",
    "Custom Judge:\n",
    "\n",
    "The judge will test your solution with the following code:\n",
    "\n",
    "int[] nums = [...]; // Input array\n",
    "int[] expectedNums = [...]; // The expected answer with correct length\n",
    "\n",
    "int k = removeDuplicates(nums); // Calls your implementation\n",
    "\n",
    "assert k == expectedNums.length;\n",
    "for (int i = 0; i < k; i++) {\n",
    "    assert nums[i] == expectedNums[i];\n",
    "}\n",
    "If all assertions pass, then your solution will be accepted.\n",
    "\n",
    " \n",
    "\n",
    "Example 1:\n",
    "\n",
    "Input: nums = [1,1,1,2,2,3]\n",
    "Output: 5, nums = [1,1,2,2,3,_]\n",
    "Explanation: Your function should return k = 5, with the first five elements of nums being 1, 1, 2, 2 and 3 respectively.\n",
    "It does not matter what you leave beyond the returned k (hence they are underscores).\n",
    "Example 2:\n",
    "\n",
    "Input: nums = [0,0,1,1,1,1,2,3,3]\n",
    "Output: 7, nums = [0,0,1,1,2,3,3,_,_]\n",
    "Explanation: Your function should return k = 7, with the first seven elements of nums being 0, 0, 1, 1, 2, 3 and 3 respectively.\n",
    "It does not matter what you leave beyond the returned k (hence they are underscores).\n",
    " \n",
    "\n",
    "Constraints:\n",
    "\n",
    "1 <= nums.length <= 3 * 104\n",
    "-104 <= nums[i] <= 104\n",
    "nums is sorted in non-decreasing order."
   ]
  },
  {
   "cell_type": "code",
   "execution_count": 28,
   "id": "a459c98f",
   "metadata": {},
   "outputs": [],
   "source": [
    "class Solution:\n",
    "    def removeDuplicates(self, nums: list[int]) -> int:\n",
    "        n = len(nums)\n",
    "        j= 1                    # index: Value to replace with \n",
    "        count= 1\n",
    "\n",
    "        for i in range(1,n):    # starting both i and j at from 1st index instead of 0 to compare with previous element\n",
    "                                # i always shifts till n\n",
    "                                # j shifts only if count exceeds 2 and value is replaced\n",
    "                                \n",
    "            if nums[i] == nums[i-1]: # increase count if (value at) i is equal to i -1\n",
    "                count += 1\n",
    "            else:\n",
    "                count = 1\n",
    "            \n",
    "            if count <= 2:\n",
    "                nums[j] = nums[i]\n",
    "                j += 1\n",
    "\n",
    "        return j\n",
    "    \n",
    "        # Time: O(n)\n",
    "        # Space: O(1)\n",
    "\n",
    "solve= Solution()"
   ]
  },
  {
   "cell_type": "code",
   "execution_count": 29,
   "id": "aea47958",
   "metadata": {},
   "outputs": [],
   "source": [
    "# Test case\n",
    "\n",
    "nums = [0,0,1,1,1,1,2,3,3]\n",
    "\n",
    "output= solve.removeDuplicates(nums)"
   ]
  },
  {
   "cell_type": "code",
   "execution_count": 30,
   "id": "f03c56a7",
   "metadata": {},
   "outputs": [
    {
     "name": "stdout",
     "output_type": "stream",
     "text": [
      "7\n",
      "[0, 0, 1, 1, 2, 3, 3, 3, 3]\n"
     ]
    }
   ],
   "source": [
    "# Result\n",
    "\n",
    "#print(output)\n",
    "print(output)\n",
    "print(nums)"
   ]
  },
  {
   "cell_type": "code",
   "execution_count": null,
   "id": "247f3151",
   "metadata": {},
   "outputs": [],
   "source": []
  }
 ],
 "metadata": {
  "kernelspec": {
   "display_name": "base",
   "language": "python",
   "name": "python3"
  },
  "language_info": {
   "codemirror_mode": {
    "name": "ipython",
    "version": 3
   },
   "file_extension": ".py",
   "mimetype": "text/x-python",
   "name": "python",
   "nbconvert_exporter": "python",
   "pygments_lexer": "ipython3",
   "version": "3.11.4"
  }
 },
 "nbformat": 4,
 "nbformat_minor": 5
}
